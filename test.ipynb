{
 "cells": [
  {
   "cell_type": "code",
   "execution_count": 3,
   "metadata": {},
   "outputs": [],
   "source": [
    "import os\n",
    "import time\n",
    "import re\n",
    "import json"
   ]
  },
  {
   "cell_type": "code",
   "execution_count": 4,
   "metadata": {},
   "outputs": [],
   "source": [
    "file_names = ['practice-exam-21.md', 'practice-exam-15.md', 'practice-exam-7.md', 'practice-exam-11.md', 'practice-exam-3.md', 'practice-exam-10.md', 'practice-exam-2.md', 'practice-exam-20.md', 'practice-exam-14.md', 'practice-exam-6.md', 'practice-exam-9.md', 'practice-exam-8.md', 'practice-exam-19.md', 'practice-exam-18.md', 'practice-exam-13.md', 'practice-exam-1.md', 'practice-exam-23.md', 'practice-exam-17.md', 'practice-exam-5.md', 'practice-exam-22.md', 'practice-exam-16.md', 'practice-exam-4.md', 'practice-exam-12.md']"
   ]
  },
  {
   "cell_type": "code",
   "execution_count": 5,
   "metadata": {},
   "outputs": [
    {
     "name": "stdout",
     "output_type": "stream",
     "text": [
      "practice-exam-21\n",
      "practice-exam-15\n",
      "practice-exam-7\n",
      "practice-exam-11\n",
      "practice-exam-3\n",
      "practice-exam-10\n",
      "practice-exam-2\n",
      "practice-exam-20\n",
      "practice-exam-14\n",
      "practice-exam-6\n",
      "practice-exam-9\n",
      "practice-exam-8\n",
      "practice-exam-19\n",
      "practice-exam-18\n",
      "practice-exam-13\n",
      "practice-exam-1\n",
      "practice-exam-23\n",
      "practice-exam-17\n",
      "practice-exam-5\n",
      "practice-exam-22\n",
      "practice-exam-16\n",
      "practice-exam-4\n",
      "practice-exam-12\n"
     ]
    }
   ],
   "source": [
    "for file in file_names:\n",
    "  print(f\"{file[:-3]}\")"
   ]
  },
  {
   "cell_type": "code",
   "execution_count": null,
   "metadata": {},
   "outputs": [],
   "source": [
    "import re\n",
    "import json\n",
    "import os\n",
    "\n",
    "def convert_md_to_js(md_file, js_file):\n",
    "    \"\"\"Converts a Markdown (.md) quiz file into a JavaScript (.js) file, extracting only correct answers.\"\"\"\n",
    "    \n",
    "    print(f\"🔄 Processing: {md_file} → {js_file}\")\n",
    "\n",
    "    try:\n",
    "        with open(md_file, \"r\", encoding=\"utf-8\") as file:\n",
    "            content = file.read()\n",
    "\n",
    "        # Updated regex to correctly stop reading after \"Correct Answer:\"\n",
    "        pattern = re.compile(\n",
    "            r\"(\\d+)\\.\\s(.+?)\\n\\s*- (A\\..+?)\\n\\s*- (B\\..+?)\\n\\s*- (C\\..+?)\\n\\s*- (D\\..+?)\"\n",
    "            r\"(?:\\n\\s*- (E\\..+?))?\\n\\n\\s*<details markdown=1><summary markdown=['\\\"]span['\\\"]>Answer</summary>\\n\\s*\"\n",
    "            r\"Correct(?: Answer)?:\\s*([A-E, ]+)\\n\",  # Stops reading at first new line after answer\n",
    "            re.DOTALL\n",
    "        )\n",
    "\n",
    "        quiz_data = []\n",
    "        matches = pattern.findall(content)\n",
    "\n",
    "        print(f\"✅ Found {len(matches)} questions in {md_file}\")\n",
    "\n",
    "        for match in matches:\n",
    "            question_number, question, opt_a, opt_b, opt_c, opt_d, opt_e, correct_answer = match\n",
    "            options = [opt_a, opt_b, opt_c, opt_d]\n",
    "\n",
    "            if opt_e:  # If there is an \"E\" option, add it\n",
    "                options.append(opt_e)\n",
    "\n",
    "            # **Fix: Handle multi-letter answers properly**\n",
    "            answer_indices = [ord(ans.strip()) - ord('A') for ans in correct_answer.replace(\" \", \"\").split(\",\")]\n",
    "\n",
    "            # **Fix: Store single answers as int, multi-answers as list**\n",
    "            answer_final = answer_indices if len(answer_indices) > 1 else answer_indices[0]\n",
    "\n",
    "            quiz_data.append({\n",
    "                \"question\": question.strip(),\n",
    "                \"options\": options,\n",
    "                \"answer\": answer_final\n",
    "            })\n",
    "\n",
    "        # Format the output JavaScript file\n",
    "        js_content = f\"const quizData = {json.dumps(quiz_data, indent=4)};\"\n",
    "\n",
    "        with open(js_file, \"w\", encoding=\"utf-8\") as file:\n",
    "            file.write(js_content)\n",
    "\n",
    "        print(f\"✅ Successfully converted: {md_file} → {js_file}\\n\")\n",
    "\n",
    "    except Exception as e:\n",
    "        print(f\"❌ Error processing {md_file}: {e}\\n\")\n",
    "\n",
    "# Define the folder paths\n",
    "md_folder = \"practice-exam\"\n",
    "output_folder = \".\"\n",
    "\n",
    "if not os.path.exists(md_folder):\n",
    "    print(f\"❌ Folder '{md_folder}' not found.\")\n",
    "else:\n",
    "    md_files = [f for f in os.listdir(md_folder) if f.endswith(\".md\")]\n",
    "\n",
    "    if not md_files:\n",
    "        print(\"❌ No .md files found.\")\n",
    "    else:\n",
    "        for md_file in md_files:\n",
    "            md_path = os.path.join(md_folder, md_file)\n",
    "            js_file = os.path.splitext(md_file)[0] + \".js\"\n",
    "            js_path = os.path.join(output_folder, js_file)\n",
    "\n",
    "            convert_md_to_js(md_path, js_path)"
   ]
  },
  {
   "cell_type": "code",
   "execution_count": null,
   "metadata": {},
   "outputs": [],
   "source": []
  }
 ],
 "metadata": {
  "kernelspec": {
   "display_name": "Python 3",
   "language": "python",
   "name": "python3"
  },
  "language_info": {
   "codemirror_mode": {
    "name": "ipython",
    "version": 3
   },
   "file_extension": ".py",
   "mimetype": "text/x-python",
   "name": "python",
   "nbconvert_exporter": "python",
   "pygments_lexer": "ipython3",
   "version": "3.9.7"
  }
 },
 "nbformat": 4,
 "nbformat_minor": 2
}
